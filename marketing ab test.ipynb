{
 "cells": [
  {
   "cell_type": "markdown",
   "id": "e1d9ea08",
   "metadata": {},
   "source": [
    "# <font color=blue>A/B Testing Demo</font>\n",
    "### <font color=#4D4D4D>Author: Warren Silva</font>\n",
    "---\n",
    "\n",
    "This is a sample A/B testing project. The functions defined below are intended to be highly reusable, and are designed with the flexibility to accept data sets with either a binary or a continuous target variable. The example project that follows will analyze both scenarios. The key features of this script include:\n",
    "\n",
    "\n",
    "- **<font color=green>Programmatic detection of target variable variety (binary or continuous)**\n",
    "- **<font color=green>Conditional execution of appropriate statistical tests based on sample size, distribution type**\n",
    "- **<font color=green>Interpretation logic for accepting/rejecting the null hypothesis of group similarity</font>**\n"
   ]
  },
  {
   "cell_type": "markdown",
   "id": "a6db5da9-81db-4a7a-a5a1-977d60811754",
   "metadata": {},
   "source": [
    "## <font color=blue>Campaign Overview and Objectives</font>\n",
    "---\n",
    "A retail website routinely offers the same promotion to \n",
    "first-time visitors, to drive purchase activity. They recently ran a campaign where new visitors were randomly offered a slightly different, alternative promotion. \n",
    "\n",
    "The campaign aims to uncover two things:\n",
    "**1. Which promotion leads to a higher rate of purchase?**\n",
    "**2. Among visitors who make a purchase, which group spends more?**\n",
    "\n",
    "The scenario and company referenced below are fictitious. The data set was created using a generator, also developed by the author."
   ]
  },
  {
   "cell_type": "code",
   "execution_count": 1,
   "id": "e376dc31",
   "metadata": {},
   "outputs": [
    {
     "data": {
      "text/html": [
       "<div>\n",
       "<style scoped>\n",
       "    .dataframe tbody tr th:only-of-type {\n",
       "        vertical-align: middle;\n",
       "    }\n",
       "\n",
       "    .dataframe tbody tr th {\n",
       "        vertical-align: top;\n",
       "    }\n",
       "\n",
       "    .dataframe thead th {\n",
       "        text-align: right;\n",
       "    }\n",
       "</style>\n",
       "<table border=\"1\" class=\"dataframe\">\n",
       "  <thead>\n",
       "    <tr style=\"text-align: right;\">\n",
       "      <th></th>\n",
       "      <th>id</th>\n",
       "      <th>date</th>\n",
       "      <th>group</th>\n",
       "      <th>outcome</th>\n",
       "    </tr>\n",
       "  </thead>\n",
       "  <tbody>\n",
       "    <tr>\n",
       "      <th>0</th>\n",
       "      <td>aa100291</td>\n",
       "      <td>8/15/23</td>\n",
       "      <td>treatment</td>\n",
       "      <td>0.00000</td>\n",
       "    </tr>\n",
       "    <tr>\n",
       "      <th>1</th>\n",
       "      <td>aa101685</td>\n",
       "      <td>11/26/23</td>\n",
       "      <td>treatment</td>\n",
       "      <td>0.00000</td>\n",
       "    </tr>\n",
       "    <tr>\n",
       "      <th>2</th>\n",
       "      <td>aa102878</td>\n",
       "      <td>12/26/23</td>\n",
       "      <td>control</td>\n",
       "      <td>0.00000</td>\n",
       "    </tr>\n",
       "    <tr>\n",
       "      <th>3</th>\n",
       "      <td>aa102922</td>\n",
       "      <td>9/14/23</td>\n",
       "      <td>control</td>\n",
       "      <td>0.00000</td>\n",
       "    </tr>\n",
       "    <tr>\n",
       "      <th>4</th>\n",
       "      <td>aa103178</td>\n",
       "      <td>12/25/23</td>\n",
       "      <td>treatment</td>\n",
       "      <td>0.00000</td>\n",
       "    </tr>\n",
       "  </tbody>\n",
       "</table>\n",
       "</div>"
      ],
      "text/plain": [
       "         id      date      group  outcome\n",
       "0  aa100291   8/15/23  treatment  0.00000\n",
       "1  aa101685  11/26/23  treatment  0.00000\n",
       "2  aa102878  12/26/23    control  0.00000\n",
       "3  aa102922   9/14/23    control  0.00000\n",
       "4  aa103178  12/25/23  treatment  0.00000"
      ]
     },
     "execution_count": 1,
     "metadata": {},
     "output_type": "execute_result"
    }
   ],
   "source": [
    "import pandas as pd\n",
    "pd.set_option('display.max_columns', None)\n",
    "pd.options.display.float_format = '{:.5f}'.format\n",
    "import numpy as np\n",
    "import scipy.stats as stats\n",
    "import seaborn as sb\n",
    "import matplotlib.pyplot as plt\n",
    "\n",
    "# load and preview data\n",
    "df = pd.read_csv('sample_data.csv')\n",
    "df.head()"
   ]
  },
  {
   "cell_type": "markdown",
   "id": "a451b232",
   "metadata": {},
   "source": [
    "## <font color=blue>Data Description</font>\n",
    "---\n",
    "\n",
    "The data set presently contains four columns:\n",
    "- <code>id</code> - Unique identifier for visitor\n",
    "- <code>date</code> - Date of visit\n",
    "- <code>group</code> - Indicator for which promotion was offered:\n",
    "    - A value of 'control' means the standard promotion was offered\n",
    "    - A value of 'treatment' means the alternative promotion was offered\n",
    "- <code>outcome</code> - The amount spent on the current visit\n",
    "\n",
    "Recall that we have two questions to answer, which means we will ultimately run two seperate A/B tests. \n",
    "\n",
    "**1. Which promotion leads to a higher rate of purchase?**\n",
    "> For this first question, we will need to create a binary indicator to distinguish purchases from non-purchases.\n",
    "    \n",
    "**2. Among visitors who make a purchase, which group spends more?**   \n",
    "> The existing <code>outcome</code> variable will satisfy the need for this one.\n"
   ]
  },
  {
   "cell_type": "code",
   "execution_count": 2,
   "id": "7187ead6",
   "metadata": {},
   "outputs": [],
   "source": [
    "# binary indicator for purchase\n",
    "df['did_purchase'] = np.where(df['outcome'] > 0, 1, 0)"
   ]
  },
  {
   "cell_type": "markdown",
   "id": "4e1d1ceb",
   "metadata": {},
   "source": [
    "## Exploration"
   ]
  },
  {
   "cell_type": "code",
   "execution_count": 3,
   "id": "69caeb88-06c6-4df7-acc4-6cdef2190216",
   "metadata": {},
   "outputs": [
    {
     "name": "stdout",
     "output_type": "stream",
     "text": [
      "record count: 100000\n",
      "column count: 5\n",
      "\n",
      "Data Summary:\n"
     ]
    },
    {
     "data": {
      "text/html": [
       "<div>\n",
       "<style scoped>\n",
       "    .dataframe tbody tr th:only-of-type {\n",
       "        vertical-align: middle;\n",
       "    }\n",
       "\n",
       "    .dataframe tbody tr th {\n",
       "        vertical-align: top;\n",
       "    }\n",
       "\n",
       "    .dataframe thead th {\n",
       "        text-align: right;\n",
       "    }\n",
       "</style>\n",
       "<table border=\"1\" class=\"dataframe\">\n",
       "  <thead>\n",
       "    <tr style=\"text-align: right;\">\n",
       "      <th></th>\n",
       "      <th>data type</th>\n",
       "      <th>null_count</th>\n",
       "      <th>null_pct</th>\n",
       "      <th>unique</th>\n",
       "      <th>top</th>\n",
       "      <th>freq</th>\n",
       "      <th>min</th>\n",
       "      <th>max</th>\n",
       "      <th>mean</th>\n",
       "      <th>std</th>\n",
       "    </tr>\n",
       "  </thead>\n",
       "  <tbody>\n",
       "    <tr>\n",
       "      <th>id</th>\n",
       "      <td>object</td>\n",
       "      <td>0</td>\n",
       "      <td>0.00000</td>\n",
       "      <td>99100</td>\n",
       "      <td>or71985</td>\n",
       "      <td>3</td>\n",
       "      <td>NaN</td>\n",
       "      <td>NaN</td>\n",
       "      <td>NaN</td>\n",
       "      <td>NaN</td>\n",
       "    </tr>\n",
       "    <tr>\n",
       "      <th>date</th>\n",
       "      <td>object</td>\n",
       "      <td>0</td>\n",
       "      <td>0.00000</td>\n",
       "      <td>152</td>\n",
       "      <td>8/8/23</td>\n",
       "      <td>729</td>\n",
       "      <td>NaN</td>\n",
       "      <td>NaN</td>\n",
       "      <td>NaN</td>\n",
       "      <td>NaN</td>\n",
       "    </tr>\n",
       "    <tr>\n",
       "      <th>group</th>\n",
       "      <td>object</td>\n",
       "      <td>0</td>\n",
       "      <td>0.00000</td>\n",
       "      <td>2</td>\n",
       "      <td>treatment</td>\n",
       "      <td>51628</td>\n",
       "      <td>NaN</td>\n",
       "      <td>NaN</td>\n",
       "      <td>NaN</td>\n",
       "      <td>NaN</td>\n",
       "    </tr>\n",
       "    <tr>\n",
       "      <th>outcome</th>\n",
       "      <td>float64</td>\n",
       "      <td>0</td>\n",
       "      <td>0.00000</td>\n",
       "      <td>3645</td>\n",
       "      <td>NaN</td>\n",
       "      <td>NaN</td>\n",
       "      <td>0.00000</td>\n",
       "      <td>2279.77413</td>\n",
       "      <td>3.38481</td>\n",
       "      <td>23.88182</td>\n",
       "    </tr>\n",
       "    <tr>\n",
       "      <th>did_purchase</th>\n",
       "      <td>int64</td>\n",
       "      <td>0</td>\n",
       "      <td>0.00000</td>\n",
       "      <td>2</td>\n",
       "      <td>NaN</td>\n",
       "      <td>NaN</td>\n",
       "      <td>0.00000</td>\n",
       "      <td>1.00000</td>\n",
       "      <td>0.03644</td>\n",
       "      <td>0.18738</td>\n",
       "    </tr>\n",
       "    <tr>\n",
       "      <th>duplicate rows</th>\n",
       "      <td>3</td>\n",
       "      <td>3</td>\n",
       "      <td>3.00000</td>\n",
       "      <td>3</td>\n",
       "      <td>3</td>\n",
       "      <td>3</td>\n",
       "      <td>3</td>\n",
       "      <td>3</td>\n",
       "      <td>3</td>\n",
       "      <td>3</td>\n",
       "    </tr>\n",
       "  </tbody>\n",
       "</table>\n",
       "</div>"
      ],
      "text/plain": [
       "               data type  null_count  null_pct  unique        top   freq  \\\n",
       "id                object           0   0.00000   99100    or71985      3   \n",
       "date              object           0   0.00000     152     8/8/23    729   \n",
       "group             object           0   0.00000       2  treatment  51628   \n",
       "outcome          float64           0   0.00000    3645        NaN    NaN   \n",
       "did_purchase       int64           0   0.00000       2        NaN    NaN   \n",
       "duplicate rows         3           3   3.00000       3          3      3   \n",
       "\n",
       "                   min        max    mean      std  \n",
       "id                 NaN        NaN     NaN      NaN  \n",
       "date               NaN        NaN     NaN      NaN  \n",
       "group              NaN        NaN     NaN      NaN  \n",
       "outcome        0.00000 2279.77413 3.38481 23.88182  \n",
       "did_purchase   0.00000    1.00000 0.03644  0.18738  \n",
       "duplicate rows       3          3       3        3  "
      ]
     },
     "metadata": {},
     "output_type": "display_data"
    }
   ],
   "source": [
    "# get summary stats\n",
    "def summarize(df):\n",
    "    # summary dataframes\n",
    "    df_type = pd.DataFrame(df.dtypes, columns=['data type'])\n",
    "    df_null = pd.DataFrame(df.isnull().sum(), columns=['null_count'])\n",
    "    df_null['null_pct'] = df.isnull().mean() * 100\n",
    "    df_unique = pd.DataFrame(df.nunique(), columns=['unique'])\n",
    "    df_stats = df.describe(include='all').transpose()\n",
    "    df_stats = df_stats[['top', 'freq', 'min', 'max', 'mean', 'std']]\n",
    "    \n",
    "    # combine\n",
    "    df_summary = pd.concat([df_type, df_null, df_unique, df_stats], axis=1)\n",
    "    \n",
    "    # add dup row count\n",
    "    duplicate_rows = df.duplicated().sum()\n",
    "    df_summary.loc['duplicate rows'] = duplicate_rows\n",
    "    \n",
    "    # print results\n",
    "    print(f'record count: {df.shape[0]}')\n",
    "    print(f'column count: {df.shape[1]}')\n",
    "    print()\n",
    "    print('Data Summary:')\n",
    "    display(df_summary)\n",
    "    \n",
    "    return None\n",
    "\n",
    "summarize(df)"
   ]
  },
  {
   "cell_type": "markdown",
   "id": "a75f80e4",
   "metadata": {},
   "source": [
    "<font color=purple>Observations</font>\n",
    "- Control and treatment groups are reasonably balanced with the treatment group representing a little over 51% of the data\n",
    "- There are fewer unique <code>id</code> values than there are total records, indicating duplicates.\n",
    "- There are also a few records where all values are duplicated.\n",
    "- There is a large difference between the mean and the max outcome, suggesting we probably have some extreme outliers in our data"
   ]
  },
  {
   "cell_type": "code",
   "execution_count": 4,
   "id": "fde0197b",
   "metadata": {},
   "outputs": [
    {
     "data": {
      "text/plain": [
       "count   3644.00000\n",
       "mean      92.88711\n",
       "std       85.67245\n",
       "min        5.09250\n",
       "25%       47.22821\n",
       "50%       88.77949\n",
       "75%      133.02988\n",
       "max     2279.77413\n",
       "Name: outcome, dtype: float64"
      ]
     },
     "execution_count": 4,
     "metadata": {},
     "output_type": "execute_result"
    }
   ],
   "source": [
    "df[df['outcome']>0]['outcome'].describe()"
   ]
  },
  {
   "cell_type": "markdown",
   "id": "4b20ec84",
   "metadata": {},
   "source": [
    "This data contains records for the same id, representing repeat logins for the same player. Since the business problem is concerned with new players only, we will drop records for subsequent visits for the same <code>id</code> value."
   ]
  },
  {
   "cell_type": "code",
   "execution_count": 5,
   "id": "12faa00d",
   "metadata": {},
   "outputs": [
    {
     "data": {
      "text/html": [
       "<div>\n",
       "<style scoped>\n",
       "    .dataframe tbody tr th:only-of-type {\n",
       "        vertical-align: middle;\n",
       "    }\n",
       "\n",
       "    .dataframe tbody tr th {\n",
       "        vertical-align: top;\n",
       "    }\n",
       "\n",
       "    .dataframe thead th {\n",
       "        text-align: right;\n",
       "    }\n",
       "</style>\n",
       "<table border=\"1\" class=\"dataframe\">\n",
       "  <thead>\n",
       "    <tr style=\"text-align: right;\">\n",
       "      <th></th>\n",
       "      <th>id</th>\n",
       "      <th>date</th>\n",
       "      <th>group</th>\n",
       "      <th>outcome</th>\n",
       "      <th>did_purchase</th>\n",
       "    </tr>\n",
       "  </thead>\n",
       "  <tbody>\n",
       "    <tr>\n",
       "      <th>19</th>\n",
       "      <td>aa119985</td>\n",
       "      <td>11/14/23</td>\n",
       "      <td>control</td>\n",
       "      <td>0.00000</td>\n",
       "      <td>0</td>\n",
       "    </tr>\n",
       "    <tr>\n",
       "      <th>18</th>\n",
       "      <td>aa119985</td>\n",
       "      <td>11/5/23</td>\n",
       "      <td>control</td>\n",
       "      <td>0.00000</td>\n",
       "      <td>0</td>\n",
       "    </tr>\n",
       "    <tr>\n",
       "      <th>89</th>\n",
       "      <td>aa52963</td>\n",
       "      <td>10/15/23</td>\n",
       "      <td>treatment</td>\n",
       "      <td>0.00000</td>\n",
       "      <td>0</td>\n",
       "    </tr>\n",
       "    <tr>\n",
       "      <th>90</th>\n",
       "      <td>aa52963</td>\n",
       "      <td>10/27/23</td>\n",
       "      <td>treatment</td>\n",
       "      <td>0.00000</td>\n",
       "      <td>0</td>\n",
       "    </tr>\n",
       "    <tr>\n",
       "      <th>178</th>\n",
       "      <td>ab128302</td>\n",
       "      <td>10/31/23</td>\n",
       "      <td>treatment</td>\n",
       "      <td>0.00000</td>\n",
       "      <td>0</td>\n",
       "    </tr>\n",
       "    <tr>\n",
       "      <th>177</th>\n",
       "      <td>ab128302</td>\n",
       "      <td>9/30/23</td>\n",
       "      <td>treatment</td>\n",
       "      <td>0.00000</td>\n",
       "      <td>0</td>\n",
       "    </tr>\n",
       "  </tbody>\n",
       "</table>\n",
       "</div>"
      ],
      "text/plain": [
       "           id      date      group  outcome  did_purchase\n",
       "19   aa119985  11/14/23    control  0.00000             0\n",
       "18   aa119985   11/5/23    control  0.00000             0\n",
       "89    aa52963  10/15/23  treatment  0.00000             0\n",
       "90    aa52963  10/27/23  treatment  0.00000             0\n",
       "178  ab128302  10/31/23  treatment  0.00000             0\n",
       "177  ab128302   9/30/23  treatment  0.00000             0"
      ]
     },
     "execution_count": 5,
     "metadata": {},
     "output_type": "execute_result"
    }
   ],
   "source": [
    "df[df.duplicated(subset='id', keep=False)].sort_values(['id', 'date'])[0:6]"
   ]
  },
  {
   "cell_type": "code",
   "execution_count": 6,
   "id": "9f858579",
   "metadata": {},
   "outputs": [],
   "source": [
    "# keep only first visit for each unique id\n",
    "df = df.sort_values(['id', 'date'])\n",
    "df = df.drop_duplicates(subset='id', keep='first').reset_index(drop=True)"
   ]
  },
  {
   "cell_type": "code",
   "execution_count": 7,
   "id": "a0a05719",
   "metadata": {},
   "outputs": [],
   "source": [
    "# boxplot function\n",
    "def make_boxplot(dataframe, top_val=None):\n",
    "    plt.figure(figsize=(8, 12))\n",
    "    ax = sb.boxplot(data=dataframe, whis=2.0)\n",
    "    if top_val:\n",
    "        ax.set_ylim(bottom=1, top=top_val)\n",
    "    plt.show()"
   ]
  },
  {
   "cell_type": "code",
   "execution_count": 8,
   "id": "66e6624c",
   "metadata": {},
   "outputs": [
    {
     "data": {
      "image/png": "[encoded data removed]",
      "text/plain": [
       "<Figure size 576x864 with 1 Axes>"
      ]
     },
     "metadata": {
      "needs_background": "light"
     },
     "output_type": "display_data"
    }
   ],
   "source": [
    "# focus on purchases\n",
    "df_sales = df[df['outcome']>0][['outcome']]\n",
    "\n",
    "make_boxplot(df_sales)"
   ]
  },
  {
   "cell_type": "code",
   "execution_count": 9,
   "id": "5f373dbd",
   "metadata": {},
   "outputs": [
    {
     "data": {
      "image/png": "[encoded data removed]",
      "text/plain": [
       "<Figure size 576x864 with 1 Axes>"
      ]
     },
     "metadata": {
      "needs_background": "light"
     },
     "output_type": "display_data"
    }
   ],
   "source": [
    "make_boxplot(df_sales, 200)"
   ]
  },
  {
   "cell_type": "code",
   "execution_count": 10,
   "id": "7f6c324c",
   "metadata": {},
   "outputs": [
    {
     "name": "stdout",
     "output_type": "stream",
     "text": [
      "Rejection of 9 points\n",
      "A z-score of 3 corresponds to a probability of 0.27%\n"
     ]
    },
    {
     "data": {
      "image/png": "[encoded data removed]",
      "text/plain": [
       "<Figure size 864x576 with 1 Axes>"
      ]
     },
     "metadata": {
      "needs_background": "light"
     },
     "output_type": "display_data"
    }
   ],
   "source": [
    "d1 = df_sales['outcome'].values\n",
    "\n",
    "mean = np.mean(d1)\n",
    "std = np.mean(d1)\n",
    "z_score = np.abs((d1 - mean) / std)\n",
    "threshold = 3\n",
    "good = z_score < threshold\n",
    "\n",
    "print(f'Rejection of {(~good).sum()} points')\n",
    "print(f'A z-score of {threshold} corresponds to a probability of {100 * 2 * stats.norm.sf(threshold):0.2f}%')\n",
    "\n",
    "visual_scatter = np.random.normal(size=d1.size)\n",
    "plt.figure(figsize=(12, 8))\n",
    "plt.scatter(d1[good], visual_scatter[good], s=2, label='Good', color='#4CAF50')\n",
    "plt.scatter(d1[~good], visual_scatter[~good], s=8, label='Bad', color='#F44336')\n",
    "plt.show()"
   ]
  },
  {
   "cell_type": "code",
   "execution_count": 11,
   "id": "9a2c1ac8",
   "metadata": {},
   "outputs": [],
   "source": [
    "# drop outliers\n",
    "df = df[df['outcome'] < 500]"
   ]
  },
  {
   "cell_type": "code",
   "execution_count": 12,
   "id": "5690be2a",
   "metadata": {},
   "outputs": [],
   "source": [
    "# Updated A/B testing function for binary and continuous targets\n",
    "def ab_test(df_in, group, target):\n",
    "    # Split A/B\n",
    "    df_a = df_in[df_in[group] == 'treatment'][target]\n",
    "    df_b = df_in[df_in[group] == 'control'][target]\n",
    "    \n",
    "    # check if the target variable is binary\n",
    "    is_binary = df_in[target].nunique() == 2\n",
    "    \n",
    "    if is_binary:\n",
    "        print('Target variable is binary') \n",
    "        \n",
    "        # Create a contingency table\n",
    "        contingency_table = pd.crosstab(df_in[group], df_in[target])\n",
    "        \n",
    "        # Decide between Chi-Square and Fisher's Exact test based on sample size\n",
    "              #using Chi-Square or Fisher's Exact test.\")\n",
    "              \n",
    "        if df_in.shape[0] >= 1000:\n",
    "            print('Running Chi-Square test (sample size is >= 1000)')\n",
    "            chi2, p_value, _, _ = stats.chi2_contingency(contingency_table)\n",
    "            test_type = 'Chi-Square Test'\n",
    "        else:\n",
    "            print('Running Fisher\\'s Exact test (sample size is < 1000)')\n",
    "            _, p_value = stats.fisher_exact(contingency_table)\n",
    "            test_type = 'Fisher\\'s Exact Test'\n",
    "        \n",
    "        # interpret results\n",
    "        ab_hypothesis = 'Reject H0' if p_value < 0.05 else 'Fail to Reject H0'\n",
    "        comment = 'A/B groups are not similar!' if ab_hypothesis == 'Reject H0' else 'A/B groups are similar!'\n",
    "        \n",
    "        # Output DataFrame\n",
    "        df_out = pd.DataFrame({\n",
    "            'Test Type': [test_type],\n",
    "            'AB Hypothesis': [ab_hypothesis],\n",
    "            'p-value': [p_value],\n",
    "            'Comment': [comment]\n",
    "        })\n",
    "    \n",
    "    else:\n",
    "        # normality test\n",
    "        if (len(df_a) < 5000) & (len(df_b) < 5000):\n",
    "            print('Running Shapiro-Wilk normality test (sample size is < 5000)')\n",
    "            norm_a = stats.shapiro(df_a)[1] < 0.05\n",
    "            norm_b = stats.shapiro(df_b)[1] < 0.05\n",
    "        else:\n",
    "            print('Running Kolmogorov-Smirnov normality test (sample size is > 5000)')\n",
    "            norm_a = stats.kstest(df_a, 'norm')[1] < 0.05\n",
    "            norm_b = stats.kstest(df_b, 'norm')[1] < 0.05\n",
    "\n",
    "        if (norm_a == False) & (norm_b == False):  # Parametric Test\n",
    "            leveneTest = stats.levene(df_a, df_b)[1] < 0.05\n",
    "            if leveneTest == False:\n",
    "                ttest = stats.ttest_ind(df_a, df_b, equal_var=True)[1]\n",
    "            else:\n",
    "                ttest = stats.ttest_ind(df_a, df_b, equal_var=False)[1]\n",
    "        else:\n",
    "            # Non-Parametric Test\n",
    "            ttest = stats.mannwhitneyu(df_a, df_b)[1]\n",
    "\n",
    "        # Result for continuous data\n",
    "        df_out = pd.DataFrame({\n",
    "            'AB Hypothesis': [ttest < 0.05],\n",
    "            'p-value': [ttest]\n",
    "        })\n",
    "        df_out['Test Type'] = np.where((norm_a == False) & (norm_b == False), 'Parametric', 'Non-Parametric')\n",
    "        df_out['AB Hypothesis'] = np.where(df_out['AB Hypothesis'] == False, 'Fail to Reject H0', 'Reject H0')\n",
    "        df_out['Comment'] = np.where(df_out['AB Hypothesis'] == 'Fail to Reject H0', 'A/B groups are similar!', 'A/B groups are not similar!')\n",
    "\n",
    "        # Additional homogeneity column for parametric tests\n",
    "        if (norm_a == False) & (norm_b == False):\n",
    "            df_out['Homogeneity'] = np.where(leveneTest == False, 'Yes', 'No')\n",
    "            df_out = df_out[['Test Type', 'Homogeneity', 'AB Hypothesis', 'p-value', 'Comment']]\n",
    "        else:\n",
    "            df_out = df_out[['Test Type', 'AB Hypothesis', 'p-value', 'Comment']]\n",
    "    \n",
    "    return df_out"
   ]
  },
  {
   "cell_type": "markdown",
   "id": "8e27a8b0",
   "metadata": {},
   "source": [
    "Before data cleaning\n",
    "- control mean 3.54120\n",
    "- treatment mean 3.23828\n",
    "- p-value 0.02691"
   ]
  },
  {
   "cell_type": "code",
   "execution_count": 13,
   "id": "8ab70089",
   "metadata": {},
   "outputs": [
    {
     "name": "stdout",
     "output_type": "stream",
     "text": [
      "Running Kolmogorov-Smirnov normality test (sample size is > 5000)\n"
     ]
    },
    {
     "data": {
      "text/html": [
       "<div>\n",
       "<style scoped>\n",
       "    .dataframe tbody tr th:only-of-type {\n",
       "        vertical-align: middle;\n",
       "    }\n",
       "\n",
       "    .dataframe tbody tr th {\n",
       "        vertical-align: top;\n",
       "    }\n",
       "\n",
       "    .dataframe thead th {\n",
       "        text-align: right;\n",
       "    }\n",
       "</style>\n",
       "<table border=\"1\" class=\"dataframe\">\n",
       "  <thead>\n",
       "    <tr style=\"text-align: right;\">\n",
       "      <th></th>\n",
       "      <th>Test Type</th>\n",
       "      <th>AB Hypothesis</th>\n",
       "      <th>p-value</th>\n",
       "      <th>Comment</th>\n",
       "    </tr>\n",
       "  </thead>\n",
       "  <tbody>\n",
       "    <tr>\n",
       "      <th>0</th>\n",
       "      <td>Non-Parametric</td>\n",
       "      <td>Reject H0</td>\n",
       "      <td>0.02340</td>\n",
       "      <td>A/B groups are not similar!</td>\n",
       "    </tr>\n",
       "  </tbody>\n",
       "</table>\n",
       "</div>"
      ],
      "text/plain": [
       "        Test Type AB Hypothesis  p-value                      Comment\n",
       "0  Non-Parametric     Reject H0  0.02340  A/B groups are not similar!"
      ]
     },
     "execution_count": 13,
     "metadata": {},
     "output_type": "execute_result"
    }
   ],
   "source": [
    "# run A/B test on purchase amount\n",
    "ab_test(df, 'group', 'outcome')"
   ]
  },
  {
   "cell_type": "code",
   "execution_count": 14,
   "id": "120dbf98",
   "metadata": {},
   "outputs": [
    {
     "name": "stdout",
     "output_type": "stream",
     "text": [
      "\n"
     ]
    },
    {
     "data": {
      "text/plain": [
       "group\n",
       "control     3.34886\n",
       "treatment   3.17950\n",
       "Name: outcome, dtype: float64"
      ]
     },
     "metadata": {},
     "output_type": "display_data"
    }
   ],
   "source": [
    "print()\n",
    "display(df.groupby('group')['outcome'].mean())"
   ]
  },
  {
   "cell_type": "code",
   "execution_count": 15,
   "id": "c5631510",
   "metadata": {},
   "outputs": [
    {
     "name": "stdout",
     "output_type": "stream",
     "text": [
      "Target variable is binary\n",
      "Running Chi-Square test (sample size is >= 1000)\n"
     ]
    },
    {
     "data": {
      "text/html": [
       "<div>\n",
       "<style scoped>\n",
       "    .dataframe tbody tr th:only-of-type {\n",
       "        vertical-align: middle;\n",
       "    }\n",
       "\n",
       "    .dataframe tbody tr th {\n",
       "        vertical-align: top;\n",
       "    }\n",
       "\n",
       "    .dataframe thead th {\n",
       "        text-align: right;\n",
       "    }\n",
       "</style>\n",
       "<table border=\"1\" class=\"dataframe\">\n",
       "  <thead>\n",
       "    <tr style=\"text-align: right;\">\n",
       "      <th></th>\n",
       "      <th>Test Type</th>\n",
       "      <th>AB Hypothesis</th>\n",
       "      <th>p-value</th>\n",
       "      <th>Comment</th>\n",
       "    </tr>\n",
       "  </thead>\n",
       "  <tbody>\n",
       "    <tr>\n",
       "      <th>0</th>\n",
       "      <td>Chi-Square Test</td>\n",
       "      <td>Reject H0</td>\n",
       "      <td>0.02273</td>\n",
       "      <td>A/B groups are not similar!</td>\n",
       "    </tr>\n",
       "  </tbody>\n",
       "</table>\n",
       "</div>"
      ],
      "text/plain": [
       "         Test Type AB Hypothesis  p-value                      Comment\n",
       "0  Chi-Square Test     Reject H0  0.02273  A/B groups are not similar!"
      ]
     },
     "execution_count": 15,
     "metadata": {},
     "output_type": "execute_result"
    }
   ],
   "source": [
    "# run A/B test on purchase rate\n",
    "ab_test(df, 'group', 'did_purchase')"
   ]
  },
  {
   "cell_type": "code",
   "execution_count": 16,
   "id": "0e97ad27",
   "metadata": {},
   "outputs": [
    {
     "name": "stdout",
     "output_type": "stream",
     "text": [
      "\n"
     ]
    },
    {
     "data": {
      "text/plain": [
       "group\n",
       "control     0.03783\n",
       "treatment   0.03510\n",
       "Name: did_purchase, dtype: float64"
      ]
     },
     "metadata": {},
     "output_type": "display_data"
    }
   ],
   "source": [
    "print()\n",
    "display(df.groupby('group')['did_purchase'].mean())"
   ]
  }
 ],
 "metadata": {
  "kernelspec": {
   "display_name": "Python 3",
   "language": "python",
   "name": "python3"
  },
  "language_info": {
   "codemirror_mode": {
    "name": "ipython",
    "version": 3
   },
   "file_extension": ".py",
   "mimetype": "text/x-python",
   "name": "python",
   "nbconvert_exporter": "python",
   "pygments_lexer": "ipython3",
   "version": "3.9.7"
  }
 },
 "nbformat": 4,
 "nbformat_minor": 5
}
