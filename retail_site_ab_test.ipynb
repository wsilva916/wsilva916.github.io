{
 "cells": [
  {
   "cell_type": "markdown",
   "id": "e1d9ea08",
   "metadata": {},
   "source": [
    "# <font color=blue>A/B Test Sample Project</font>\n",
    "### <font color=#4D4D4D>Warren Silva</font>\n",
    "---\n",
    "\n",
    "This is a sample A/B testing project. The functions defined below are intended to be highly reusable, and are designed with the flexibility to accept data sets with either a binary or a continuous target variable. The example project that follows will analyze both scenarios. The key features of this script include:\n",
    "\n",
    "- **<font color=black>Programmatic detection of target variable variety (binary or continuous)</font>**\n",
    "- **<font color=black>Conditional execution of appropriate statistical tests based on sample size, distribution type</font>**\n",
    "- **<font color=black>Interpretation logic for accepting/rejecting the null hypothesis of group similarity</font>**"
   ]
  },
  {
   "cell_type": "markdown",
   "id": "a6db5da9-81db-4a7a-a5a1-977d60811754",
   "metadata": {},
   "source": [
    "## Campaign Overview and Objectives\n",
    "---\n",
    "*The scenario and company referenced here are fictitious, as is the data. The sample was generated using a script developed by the author.*\n",
    "\n",
    "A retail website routinely offers the same promotion to \n",
    "first-time visitors, to drive purchase activity. They recently ran a campaign where new visitors were randomly offered an alternative promotion. The campaign aims to uncover two things:\n",
    "1. **<font color=green>Which promotion leads to a higher rate of purchase?</font>**\n",
    "2. **<font color=green>Among visitors who make a purchase, which group spends more?</font>**"
   ]
  },
  {
   "cell_type": "markdown",
   "id": "eddd7106-e7d4-48db-a301-f2b8676cc3b4",
   "metadata": {},
   "source": [
    "## Setup\n",
    "---\n",
    "\n",
    "First, we import the necessary libraries, load and preview the data."
   ]
  },
  {
   "cell_type": "code",
   "execution_count": 1,
   "id": "7e734ae9",
   "metadata": {},
   "outputs": [],
   "source": [
    "# import libraries and config\n",
    "import pandas as pd\n",
    "pd.set_option('display.max_columns', None)\n",
    "pd.options.display.float_format = '{:.3f}'.format\n",
    "import numpy as np\n",
    "import scipy.stats as stats\n",
    "import seaborn as sb\n",
    "import matplotlib.pyplot as plt"
   ]
  },
  {
   "cell_type": "markdown",
   "id": "ebc95b6c",
   "metadata": {},
   "source": [
    "## Exploratory Data Analysis, Cleaning, and Feature Engineering"
   ]
  },
  {
   "cell_type": "code",
   "execution_count": 2,
   "id": "e376dc31",
   "metadata": {},
   "outputs": [
    {
     "data": {
      "text/html": [
       "<div>\n",
       "<style scoped>\n",
       "    .dataframe tbody tr th:only-of-type {\n",
       "        vertical-align: middle;\n",
       "    }\n",
       "\n",
       "    .dataframe tbody tr th {\n",
       "        vertical-align: top;\n",
       "    }\n",
       "\n",
       "    .dataframe thead th {\n",
       "        text-align: right;\n",
       "    }\n",
       "</style>\n",
       "<table border=\"1\" class=\"dataframe\">\n",
       "  <thead>\n",
       "    <tr style=\"text-align: right;\">\n",
       "      <th></th>\n",
       "      <th>id</th>\n",
       "      <th>date</th>\n",
       "      <th>group</th>\n",
       "      <th>outcome</th>\n",
       "    </tr>\n",
       "  </thead>\n",
       "  <tbody>\n",
       "    <tr>\n",
       "      <th>0</th>\n",
       "      <td>aa100291</td>\n",
       "      <td>8/15/23</td>\n",
       "      <td>treatment</td>\n",
       "      <td>0.000</td>\n",
       "    </tr>\n",
       "    <tr>\n",
       "      <th>1</th>\n",
       "      <td>aa101685</td>\n",
       "      <td>11/26/23</td>\n",
       "      <td>treatment</td>\n",
       "      <td>0.000</td>\n",
       "    </tr>\n",
       "    <tr>\n",
       "      <th>2</th>\n",
       "      <td>aa102878</td>\n",
       "      <td>12/26/23</td>\n",
       "      <td>control</td>\n",
       "      <td>0.000</td>\n",
       "    </tr>\n",
       "    <tr>\n",
       "      <th>3</th>\n",
       "      <td>aa102922</td>\n",
       "      <td>9/14/23</td>\n",
       "      <td>control</td>\n",
       "      <td>0.000</td>\n",
       "    </tr>\n",
       "    <tr>\n",
       "      <th>4</th>\n",
       "      <td>aa103178</td>\n",
       "      <td>12/25/23</td>\n",
       "      <td>treatment</td>\n",
       "      <td>0.000</td>\n",
       "    </tr>\n",
       "  </tbody>\n",
       "</table>\n",
       "</div>"
      ],
      "text/plain": [
       "         id      date      group  outcome\n",
       "0  aa100291   8/15/23  treatment    0.000\n",
       "1  aa101685  11/26/23  treatment    0.000\n",
       "2  aa102878  12/26/23    control    0.000\n",
       "3  aa102922   9/14/23    control    0.000\n",
       "4  aa103178  12/25/23  treatment    0.000"
      ]
     },
     "execution_count": 2,
     "metadata": {},
     "output_type": "execute_result"
    }
   ],
   "source": [
    "# load and preview data\n",
    "df = pd.read_csv('sample_data.csv')\n",
    "df.head()"
   ]
  },
  {
   "cell_type": "markdown",
   "id": "4d5cd0bb-9aa8-4345-b286-e00dac5fac95",
   "metadata": {},
   "source": [
    "<u>**Data Description**</u>\n",
    "\n",
    "- <code>id</code> - Unique identifier for visitor\n",
    "- <code>date</code> - Date of visit\n",
    "- <code>group</code> - Indicator for which promotion was offered:\n",
    "    - A value of 'control' means the standard promotion was offered\n",
    "    - A value of 'treatment' means the alternative promotion was offered\n",
    "- <code>outcome</code> - The amount spent on the current visit"
   ]
  },
  {
   "cell_type": "markdown",
   "id": "a451b232",
   "metadata": {},
   "source": [
    "Recall that we have two questions to answer, which means we will ultimately run two seperate A/B tests, each with the appropriate target variable: \n",
    "\n",
    "> **<font color=green>1. Which promotion leads to a higher rate of purchase?</font>**\n",
    ">> For this first question, we will need to create a binary indicator to distinguish purchases from non-purchases.\n",
    "\n",
    "> **<font color=green>2. Among visitors who make a purchase, which group spends more?</font>**   \n",
    ">> The existing <code>outcome</code> variable will satisfy the need for this one.\n",
    "\n",
    "To aid with question #1, we'll add a variable called <code>did_purchase</code> and set the value:\n",
    "- to **<font color=green>1</font>** (True) if a purchase was made (where <code>outcome</code> is greater than zero)\n",
    "- to **<font color=green>0</font>** (False) in all other cases"
   ]
  },
  {
   "cell_type": "code",
   "execution_count": 3,
   "id": "7187ead6",
   "metadata": {},
   "outputs": [
    {
     "data": {
      "text/html": [
       "<div>\n",
       "<style scoped>\n",
       "    .dataframe tbody tr th:only-of-type {\n",
       "        vertical-align: middle;\n",
       "    }\n",
       "\n",
       "    .dataframe tbody tr th {\n",
       "        vertical-align: top;\n",
       "    }\n",
       "\n",
       "    .dataframe thead th {\n",
       "        text-align: right;\n",
       "    }\n",
       "</style>\n",
       "<table border=\"1\" class=\"dataframe\">\n",
       "  <thead>\n",
       "    <tr style=\"text-align: right;\">\n",
       "      <th></th>\n",
       "      <th>id</th>\n",
       "      <th>date</th>\n",
       "      <th>group</th>\n",
       "      <th>outcome</th>\n",
       "      <th>did_purchase</th>\n",
       "    </tr>\n",
       "  </thead>\n",
       "  <tbody>\n",
       "    <tr>\n",
       "      <th>0</th>\n",
       "      <td>uy106854</td>\n",
       "      <td>9/30/23</td>\n",
       "      <td>treatment</td>\n",
       "      <td>0.000</td>\n",
       "      <td>0</td>\n",
       "    </tr>\n",
       "    <tr>\n",
       "      <th>1</th>\n",
       "      <td>bq127357</td>\n",
       "      <td>12/18/23</td>\n",
       "      <td>treatment</td>\n",
       "      <td>122.305</td>\n",
       "      <td>1</td>\n",
       "    </tr>\n",
       "    <tr>\n",
       "      <th>2</th>\n",
       "      <td>nm97738</td>\n",
       "      <td>12/24/23</td>\n",
       "      <td>control</td>\n",
       "      <td>0.000</td>\n",
       "      <td>0</td>\n",
       "    </tr>\n",
       "    <tr>\n",
       "      <th>3</th>\n",
       "      <td>hp94120</td>\n",
       "      <td>11/7/23</td>\n",
       "      <td>control</td>\n",
       "      <td>13.605</td>\n",
       "      <td>1</td>\n",
       "    </tr>\n",
       "    <tr>\n",
       "      <th>4</th>\n",
       "      <td>bk55009</td>\n",
       "      <td>10/21/23</td>\n",
       "      <td>treatment</td>\n",
       "      <td>0.000</td>\n",
       "      <td>0</td>\n",
       "    </tr>\n",
       "  </tbody>\n",
       "</table>\n",
       "</div>"
      ],
      "text/plain": [
       "         id      date      group  outcome  did_purchase\n",
       "0  uy106854   9/30/23  treatment    0.000             0\n",
       "1  bq127357  12/18/23  treatment  122.305             1\n",
       "2   nm97738  12/24/23    control    0.000             0\n",
       "3   hp94120   11/7/23    control   13.605             1\n",
       "4   bk55009  10/21/23  treatment    0.000             0"
      ]
     },
     "metadata": {},
     "output_type": "display_data"
    }
   ],
   "source": [
    "# binary indicator for purchase\n",
    "df['did_purchase'] = np.where(df['outcome'] > 0, 1, 0)\n",
    "\n",
    "# sample with examples of both purchase outcomes\n",
    "sample_size = 5\n",
    "df1 = df[df['did_purchase'] == 1].sample(n=sample_size // 2, random_state=1, replace=True)\n",
    "df0 = df[df['did_purchase'] == 0].sample(n=sample_size - len(df1), random_state=1, replace=True)\n",
    "df_sample = pd.concat([df1, df0]).sample(frac=1, random_state=1).reset_index(drop=True)\n",
    "display(df_sample)"
   ]
  },
  {
   "cell_type": "markdown",
   "id": "4e1d1ceb",
   "metadata": {},
   "source": [
    "Next, we'll get some more detailed summary statistics about our data."
   ]
  },
  {
   "cell_type": "code",
   "execution_count": 4,
   "id": "69caeb88-06c6-4df7-acc4-6cdef2190216",
   "metadata": {},
   "outputs": [
    {
     "name": "stdout",
     "output_type": "stream",
     "text": [
      "record count: 100000\n",
      "column count: 5\n",
      "\n",
      "Data Summary:\n"
     ]
    },
    {
     "data": {
      "text/html": [
       "<div>\n",
       "<style scoped>\n",
       "    .dataframe tbody tr th:only-of-type {\n",
       "        vertical-align: middle;\n",
       "    }\n",
       "\n",
       "    .dataframe tbody tr th {\n",
       "        vertical-align: top;\n",
       "    }\n",
       "\n",
       "    .dataframe thead th {\n",
       "        text-align: right;\n",
       "    }\n",
       "</style>\n",
       "<table border=\"1\" class=\"dataframe\">\n",
       "  <thead>\n",
       "    <tr style=\"text-align: right;\">\n",
       "      <th></th>\n",
       "      <th>data type</th>\n",
       "      <th>null_count</th>\n",
       "      <th>null_pct</th>\n",
       "      <th>unique</th>\n",
       "      <th>top</th>\n",
       "      <th>freq</th>\n",
       "      <th>min</th>\n",
       "      <th>max</th>\n",
       "      <th>mean</th>\n",
       "      <th>std</th>\n",
       "    </tr>\n",
       "  </thead>\n",
       "  <tbody>\n",
       "    <tr>\n",
       "      <th>id</th>\n",
       "      <td>object</td>\n",
       "      <td>0</td>\n",
       "      <td>0.000</td>\n",
       "      <td>99100</td>\n",
       "      <td>or71985</td>\n",
       "      <td>3</td>\n",
       "      <td>NaN</td>\n",
       "      <td>NaN</td>\n",
       "      <td>NaN</td>\n",
       "      <td>NaN</td>\n",
       "    </tr>\n",
       "    <tr>\n",
       "      <th>date</th>\n",
       "      <td>object</td>\n",
       "      <td>0</td>\n",
       "      <td>0.000</td>\n",
       "      <td>152</td>\n",
       "      <td>8/8/23</td>\n",
       "      <td>729</td>\n",
       "      <td>NaN</td>\n",
       "      <td>NaN</td>\n",
       "      <td>NaN</td>\n",
       "      <td>NaN</td>\n",
       "    </tr>\n",
       "    <tr>\n",
       "      <th>group</th>\n",
       "      <td>object</td>\n",
       "      <td>0</td>\n",
       "      <td>0.000</td>\n",
       "      <td>2</td>\n",
       "      <td>treatment</td>\n",
       "      <td>51628</td>\n",
       "      <td>NaN</td>\n",
       "      <td>NaN</td>\n",
       "      <td>NaN</td>\n",
       "      <td>NaN</td>\n",
       "    </tr>\n",
       "    <tr>\n",
       "      <th>outcome</th>\n",
       "      <td>float64</td>\n",
       "      <td>0</td>\n",
       "      <td>0.000</td>\n",
       "      <td>3645</td>\n",
       "      <td>NaN</td>\n",
       "      <td>NaN</td>\n",
       "      <td>0.000</td>\n",
       "      <td>2279.774</td>\n",
       "      <td>3.252</td>\n",
       "      <td>23.189</td>\n",
       "    </tr>\n",
       "    <tr>\n",
       "      <th>did_purchase</th>\n",
       "      <td>int64</td>\n",
       "      <td>0</td>\n",
       "      <td>0.000</td>\n",
       "      <td>2</td>\n",
       "      <td>NaN</td>\n",
       "      <td>NaN</td>\n",
       "      <td>0.000</td>\n",
       "      <td>1.000</td>\n",
       "      <td>0.036</td>\n",
       "      <td>0.187</td>\n",
       "    </tr>\n",
       "    <tr>\n",
       "      <th>duplicate rows</th>\n",
       "      <td>3</td>\n",
       "      <td>3</td>\n",
       "      <td>3.000</td>\n",
       "      <td>3</td>\n",
       "      <td>3</td>\n",
       "      <td>3</td>\n",
       "      <td>3</td>\n",
       "      <td>3</td>\n",
       "      <td>3</td>\n",
       "      <td>3</td>\n",
       "    </tr>\n",
       "  </tbody>\n",
       "</table>\n",
       "</div>"
      ],
      "text/plain": [
       "               data type  null_count  null_pct  unique        top   freq  \\\n",
       "id                object           0     0.000   99100    or71985      3   \n",
       "date              object           0     0.000     152     8/8/23    729   \n",
       "group             object           0     0.000       2  treatment  51628   \n",
       "outcome          float64           0     0.000    3645        NaN    NaN   \n",
       "did_purchase       int64           0     0.000       2        NaN    NaN   \n",
       "duplicate rows         3           3     3.000       3          3      3   \n",
       "\n",
       "                 min      max  mean    std  \n",
       "id               NaN      NaN   NaN    NaN  \n",
       "date             NaN      NaN   NaN    NaN  \n",
       "group            NaN      NaN   NaN    NaN  \n",
       "outcome        0.000 2279.774 3.252 23.189  \n",
       "did_purchase   0.000    1.000 0.036  0.187  \n",
       "duplicate rows     3        3     3      3  "
      ]
     },
     "metadata": {},
     "output_type": "display_data"
    }
   ],
   "source": [
    "# summary stats function\n",
    "def summarize(df):\n",
    "    # summary dataframes\n",
    "    df_type = pd.DataFrame(df.dtypes, columns=['data type'])\n",
    "    df_null = pd.DataFrame(df.isnull().sum(), columns=['null_count'])\n",
    "    df_null['null_pct'] = df.isnull().mean() * 100\n",
    "    df_unique = pd.DataFrame(df.nunique(), columns=['unique'])\n",
    "    df_stats = df.describe(include='all').transpose()\n",
    "    df_stats = df_stats[['top', 'freq', 'min', 'max', 'mean', 'std']]\n",
    "    \n",
    "    # combine\n",
    "    df_summary = pd.concat([df_type, df_null, df_unique, df_stats], axis=1)\n",
    "    \n",
    "    # add dup row count\n",
    "    duplicate_rows = df.duplicated().sum()\n",
    "    df_summary.loc['duplicate rows'] = duplicate_rows\n",
    "    \n",
    "    # print results\n",
    "    print(f'record count: {df.shape[0]}')\n",
    "    print(f'column count: {df.shape[1]}')\n",
    "    print()\n",
    "    print('Data Summary:')\n",
    "    display(df_summary)\n",
    "    \n",
    "    return None\n",
    "\n",
    "# get summary stats\n",
    "summarize(df)"
   ]
  },
  {
   "cell_type": "markdown",
   "id": "a75f80e4",
   "metadata": {},
   "source": [
    "<u>**Observations**</u>\n",
    "- Control and treatment groups are reasonably balanced with the treatment group representing a little over 51% of the data\n",
    "- There are fewer unique <code>id</code> values than there are total records, which suggests that there are multiple records for some visitors.\n",
    "- There are also a few records where all values are duplicated.\n",
    "- There is a large difference between the mean and the max outcome, suggesting we probably have some extreme outliers in our data.\n",
    "\n",
    "We'll do a little bit of cleaning with the information uncovered from these stats. \n",
    "\n",
    "Firstly, since the business problem is concerned with first-time visitors only, we will drop records for subsequent visits for the same <code>id</code> value, keeping only the record with the earliest <code>date</code> value."
   ]
  },
  {
   "cell_type": "code",
   "execution_count": 5,
   "id": "ba8ddaaa-5966-4905-9533-73a17072b170",
   "metadata": {},
   "outputs": [],
   "source": [
    "# keep only first visit for each unique id\n",
    "df = df.sort_values(['id', 'date'])\n",
    "df = df.drop_duplicates(subset='id', keep='first').reset_index(drop=True)"
   ]
  },
  {
   "cell_type": "markdown",
   "id": "b05b9307-6fac-4b81-8886-afd0afd35024",
   "metadata": {},
   "source": [
    "Let's get a little bit of a more detailed picture of how <code>outcome</code> (purchase amount) is distributed. To focus in on the business problem, we'll look at only records where there was a sale."
   ]
  },
  {
   "cell_type": "code",
   "execution_count": 6,
   "id": "fde0197b",
   "metadata": {},
   "outputs": [
    {
     "data": {
      "text/plain": [
       "count   3618.000\n",
       "mean      89.250\n",
       "std       84.394\n",
       "min        4.691\n",
       "25%       45.188\n",
       "50%       85.351\n",
       "75%      126.427\n",
       "max     2279.774\n",
       "Name: outcome, dtype: float64"
      ]
     },
     "execution_count": 6,
     "metadata": {},
     "output_type": "execute_result"
    }
   ],
   "source": [
    "# check outcome stats\n",
    "df_sales = df[df['did_purchase']==1]\n",
    "df_sales['outcome'].describe()"
   ]
  },
  {
   "cell_type": "markdown",
   "id": "f8920f55-d559-4149-ac18-7409d0b75774",
   "metadata": {},
   "source": [
    "We can see that the average sale amount is about \\\\$92, and 75\\% of sales are \\\\$133 or below. But in rarer cases, some visitors spend much, much more. Let's visualize some of these outliers to get a better sense of just how rare these cases are."
   ]
  },
  {
   "cell_type": "code",
   "execution_count": 7,
   "id": "a0a05719",
   "metadata": {},
   "outputs": [],
   "source": [
    "# boxplot function\n",
    "def make_boxplot(dataframe, top_val=None):\n",
    "    plt.figure(figsize=(5, 7))\n",
    "    # set color for outliers\n",
    "    flierprops = dict(marker='o', markerfacecolor='red', markersize=5, linestyle='none')\n",
    "    ax = sb.boxplot(data=dataframe, whis=2.0, color='blue', flierprops=flierprops)\n",
    "    if top_val:\n",
    "        ax.set_ylim(bottom=1, top=top_val)\n",
    "\n",
    "    # set color for IQR and whiskers\n",
    "    for patch in ax.artists:\n",
    "        patch.set_edgecolor('blue')\n",
    "        patch.set_facecolor('blue')\n",
    "    for line in ax.lines:\n",
    "        line.set_color('blue')\n",
    "    plt.show()"
   ]
  },
  {
   "cell_type": "code",
   "execution_count": 8,
   "id": "9268e5cc-67f4-4490-b9c1-c2a24c36f2bd",
   "metadata": {},
   "outputs": [
    {
     "data": {
      "image/png": "[encoded data removed]",
      "text/plain": [
       "<Figure size 360x504 with 1 Axes>"
      ]
     },
     "metadata": {
      "needs_background": "light"
     },
     "output_type": "display_data"
    }
   ],
   "source": [
    "make_boxplot(df_sales[['outcome']])"
   ]
  },
  {
   "cell_type": "markdown",
   "id": "9934dbbe-be1d-4825-8f35-e7b84ed05e23",
   "metadata": {},
   "source": [
    "Visually, we can pretty easily see that there are just a handful of pretty extreme values relative to the bulk of the data. Let's try focusing in on the more common outcomes. We'll do this by providing a value for the <code>top</code> argument we built into our boxplot function."
   ]
  },
  {
   "cell_type": "code",
   "execution_count": 9,
   "id": "0b7d5e4b-c55f-417a-83f9-94aec82076b5",
   "metadata": {},
   "outputs": [
    {
     "data": {
      "image/png": "[encoded data removed]",
      "text/plain": [
       "<Figure size 360x504 with 1 Axes>"
      ]
     },
     "metadata": {
      "needs_background": "light"
     },
     "output_type": "display_data"
    }
   ],
   "source": [
    "make_boxplot(df_sales[['outcome']], 200)"
   ]
  },
  {
   "cell_type": "markdown",
   "id": "9be44636-7562-49fa-a34c-b8aba11f2e5d",
   "metadata": {},
   "source": [
    "That gives a much clearer picture of how the majority of the sales are distributed. \n",
    "\n",
    "Here is a brief overview of how we interpret the boxplot:\n",
    "- The solid area of the boxplot represents the interquartile range (IQR), which spans everything between the 25th and 75th percentile. More simply, it is the \"middle half\" of the data.\n",
    "- The lines, or \"whiskers\" that extend above and below the IQR are meant to capture everything that falls within a \"reasonable\" distance from the mean. In this case we have defined \"reasonable distance\" as twice the size of the IQR (by passing <code>whis=2.0</code> to our boxplot function), which is a common threshold when considering the statistical dispersion of continuous data that might contain outliers. \n",
    "\n",
    "We can easily see that the vast majority of sales are under about \\\\$175, and the interquartile range, representing everything between the 25th and 75th percentile, includes sales roughly between \\\\$50 and \\\\$130.  If we want to get some more precise numbers for the sake of discussion, we can calculate those:"
   ]
  },
  {
   "cell_type": "code",
   "execution_count": 10,
   "id": "1a0c660f-d049-4ee4-a5e5-b5303ead3e19",
   "metadata": {},
   "outputs": [
    {
     "name": "stdout",
     "output_type": "stream",
     "text": [
      "Lowest reasonable actual value: $4.69\n",
      "25th percentile: $45.19\n",
      "75th percentile: $126.43\n",
      "Highest reasonable actual value: $174.99\n"
     ]
    }
   ],
   "source": [
    "# calculate IQR and related components\n",
    "q1 = df_sales['outcome'].quantile(0.25)\n",
    "q3 = df_sales['outcome'].quantile(0.75)\n",
    "iqr = q3 - q1\n",
    "lower_limit = q1 - 2 * iqr\n",
    "upper_limit = q3 + 2 * iqr\n",
    "lower_whis = df_sales['outcome'][df_sales['outcome'] >= lower_limit].min()\n",
    "upper_whis = df_sales['outcome'][df_sales['outcome'] <= upper_limit].max()\n",
    "\n",
    "print(f'Lowest reasonable actual value: ${lower_whis:.2f}')\n",
    "print(f'25th percentile: ${q1:.2f}')\n",
    "print(f'75th percentile: ${q3:.2f}')\n",
    "print(f\"Highest reasonable actual value: ${upper_whis:.2f}\")"
   ]
  },
  {
   "cell_type": "markdown",
   "id": "0e5cdd13-a912-49db-92ee-68aade90c0f4",
   "metadata": {},
   "source": [
    "Let's quickly look at the count of our outliers and their ratio to the rest of the data."
   ]
  },
  {
   "cell_type": "code",
   "execution_count": 11,
   "id": "fececf97-4627-4b70-b939-702d1d2ea3f6",
   "metadata": {},
   "outputs": [
    {
     "name": "stdout",
     "output_type": "stream",
     "text": [
      "There are 9 outliers out of 3618 sales, representing 0.249% of the data\n"
     ]
    }
   ],
   "source": [
    "# check outlier count and proportion\n",
    "sales_count = len(df_sales)\n",
    "outlier_count = len(df_sales[df_sales['outcome']>500])\n",
    "outlier_pct = (outlier_count / sales_count) * 100\n",
    "\n",
    "print(f'There are {outlier_count} outliers out of {sales_count} sales, representing {outlier_pct:.3f}% of the data')"
   ]
  },
  {
   "cell_type": "markdown",
   "id": "3a342407-a56b-4796-98c5-503650c52791",
   "metadata": {},
   "source": [
    "As suspected, these outliers represent a very rare case, and it makes sense to remove them from our analysis so as not to skew the results of our test or any calculations for mean sales, which we are likely to be interested in when presenting our outcomes."
   ]
  },
  {
   "cell_type": "markdown",
   "id": "b8c097b5-2e19-48b4-97a5-eba5107fd5a3",
   "metadata": {},
   "source": [
    "The outliers in this problem may seem pretty cut and dry, but that is not always the case. In the event we wanted to take a more programmatic approach to outlier detection and pruning, here is an alternative method that utilizes z_score."
   ]
  },
  {
   "cell_type": "code",
   "execution_count": 12,
   "id": "7f6c324c",
   "metadata": {},
   "outputs": [
    {
     "name": "stdout",
     "output_type": "stream",
     "text": [
      "Rejection of 9 points\n",
      "A z-score of 3 corresponds to a probability of 0.27%\n"
     ]
    },
    {
     "data": {
      "image/png": "[encoded data removed]",
      "text/plain": [
       "<Figure size 864x576 with 1 Axes>"
      ]
     },
     "metadata": {
      "needs_background": "light"
     },
     "output_type": "display_data"
    }
   ],
   "source": [
    "d1 = df_sales['outcome'].values\n",
    "\n",
    "mean = np.mean(d1)\n",
    "std = np.mean(d1)\n",
    "z_score = np.abs((d1 - mean) / std)\n",
    "threshold = 3\n",
    "good = z_score < threshold\n",
    "\n",
    "print(f'Rejection of {(~good).sum()} points')\n",
    "print(f'A z-score of {threshold} corresponds to a probability of {100 * 2 * stats.norm.sf(threshold):0.2f}%')\n",
    "\n",
    "visual_scatter = np.random.normal(size=d1.size)\n",
    "plt.figure(figsize=(12, 8))\n",
    "plt.scatter(d1[good], visual_scatter[good], s=2, label='Good', color='#4CAF50')\n",
    "plt.scatter(d1[~good], visual_scatter[~good], s=8, label='Bad', color='#F44336')\n",
    "plt.show()"
   ]
  },
  {
   "cell_type": "code",
   "execution_count": 13,
   "id": "9a2c1ac8",
   "metadata": {},
   "outputs": [],
   "source": [
    "# drop outliers\n",
    "outlier_indices = df_sales.index[~good]\n",
    "df = df.drop(outlier_indices).reset_index(drop=True)\n",
    "df_sales = df_sales.drop(outlier_indices).reset_index(drop=True)"
   ]
  },
  {
   "cell_type": "markdown",
   "id": "eafdf467-b47d-45cd-a28d-24d25b93cce7",
   "metadata": {},
   "source": [
    "## Run A/B Tests\n",
    "---\n",
    "Here we have a flexible function that will handle our A/B testing. \n",
    "- In the case of a binary target variable, it applies the appropriate independence test based on sample size. \n",
    "- In the case of a continuous target variable, it can decide between and apply the proper normality test and based on the result, applies the best-suited parametric or non-parametric independence test."
   ]
  },
  {
   "cell_type": "code",
   "execution_count": 14,
   "id": "5690be2a",
   "metadata": {},
   "outputs": [],
   "source": [
    "# a/b testing function for binary or continuous targets\n",
    "def ab_test(df_in, group, target):\n",
    "    # split a/b populations\n",
    "    df_a = df_in[df_in[group] == 'treatment'][target]\n",
    "    df_b = df_in[df_in[group] == 'control'][target]\n",
    "    \n",
    "    # check if the target variable is binary\n",
    "    is_binary = df_in[target].nunique() == 2\n",
    "    \n",
    "    if is_binary:\n",
    "        print('Target variable is binary') \n",
    "        \n",
    "        # create contingency table\n",
    "        contingency_table = pd.crosstab(df_in[group], df_in[target])\n",
    "        \n",
    "        # decide between Chi-Square and Fisher's Exact test based on sample size \n",
    "        if df_in.shape[0] >= 1000:\n",
    "            print('Running Chi-Square test (sample size is >= 1000)')\n",
    "            chi2, p_value, _, _ = stats.chi2_contingency(contingency_table)\n",
    "            test_type = 'Chi-Square Test'\n",
    "        else:\n",
    "            print('Running Fisher\\'s Exact test (sample size is < 1000)')\n",
    "            _, p_value = stats.fisher_exact(contingency_table)\n",
    "            test_type = 'Fisher\\'s Exact Test'\n",
    "        \n",
    "        # interpret results\n",
    "        ab_outcome = 'Reject' if p_value < 0.05 else 'Fail to Reject'\n",
    "        comment = 'Difference is statistically significant' if ab_outcome == 'Reject' else 'Difference not significant'\n",
    "        \n",
    "        # output dataFrame\n",
    "        df_out = pd.DataFrame({\n",
    "            'Test Type': [test_type],\n",
    "            'Null Hypothesis': [ab_outcome],\n",
    "            'p-value': [p_value],\n",
    "            'Comment': [comment]\n",
    "        })\n",
    "    \n",
    "    else:\n",
    "        # normality test\n",
    "        if (len(df_a) < 5000) & (len(df_b) < 5000):\n",
    "            print('Running Shapiro-Wilk normality test (sample size is < 5000)')\n",
    "            norm_a = stats.shapiro(df_a)[1] < 0.05\n",
    "            norm_b = stats.shapiro(df_b)[1] < 0.05\n",
    "        else:\n",
    "            print('Running Kolmogorov-Smirnov normality test (sample size is > 5000)')\n",
    "            norm_a = stats.kstest(df_a, 'norm')[1] < 0.05\n",
    "            norm_b = stats.kstest(df_b, 'norm')[1] < 0.05\n",
    "\n",
    "        if (norm_a == False) & (norm_b == False):  # Parametric Test\n",
    "            leveneTest = stats.levene(df_a, df_b)[1] < 0.05\n",
    "            if leveneTest == False:\n",
    "                ttest = stats.ttest_ind(df_a, df_b, equal_var=True)[1]\n",
    "            else:\n",
    "                ttest = stats.ttest_ind(df_a, df_b, equal_var=False)[1]\n",
    "        else:\n",
    "            # non-parametric test\n",
    "            ttest = stats.mannwhitneyu(df_a, df_b)[1]\n",
    "\n",
    "        # result for continuous data\n",
    "        df_out = pd.DataFrame({\n",
    "            'Null Hypothesis': [ttest < 0.05],\n",
    "            'p-value': [ttest]\n",
    "        })\n",
    "        df_out['Test Type'] = np.where((norm_a == False) & (norm_b == False), 'Parametric', 'Non-Parametric')\n",
    "        df_out['Null Hypothesis'] = np.where(df_out['Null Hypothesis'] == False, 'Fail to Reject', 'Reject')\n",
    "        df_out['Comment'] = np.where(df_out['Null Hypothesis'] == 'Fail to Reject', \n",
    "                                     'Difference not significant', 'Difference is statistically significant')\n",
    "\n",
    "        # additional homogeneity column for parametric tests\n",
    "        if (norm_a == False) & (norm_b == False):\n",
    "            df_out['Homogeneity'] = np.where(leveneTest == False, 'Yes', 'No')\n",
    "            df_out = df_out[['Test Type', 'Homogeneity', 'Null Hypothesis', 'p-value', 'Comment']]\n",
    "        else:\n",
    "            df_out = df_out[['Test Type', 'Null Hypothesis', 'p-value', 'Comment']]\n",
    "    \n",
    "    return df_out\n",
    "\n",
    "# update precision for p-value\n",
    "pd.options.display.float_format = '{:.5f}'.format"
   ]
  },
  {
   "cell_type": "markdown",
   "id": "f7709670",
   "metadata": {},
   "source": [
    "# Produce and Interpret Results"
   ]
  },
  {
   "cell_type": "markdown",
   "id": "07e1122d-0a5e-4fb2-b8cf-6f7dd6b38bee",
   "metadata": {},
   "source": [
    "## <font color=green>Business Question 1: Which promotion leads to a higher rate of purchase?</font>\n",
    "\n",
    "First, let's look at the average purchase rate within each group."
   ]
  },
  {
   "cell_type": "code",
   "execution_count": 15,
   "id": "534cf48f",
   "metadata": {},
   "outputs": [
    {
     "data": {
      "text/plain": [
       "group\n",
       "control      3.78%\n",
       "treatment    3.51%\n",
       "Name: did_purchase, dtype: object"
      ]
     },
     "metadata": {},
     "output_type": "display_data"
    }
   ],
   "source": [
    "# view mean purchase amounts by group\n",
    "display(df.groupby('group')['did_purchase'].mean().mul(100).round(2).astype(str) + '%')"
   ]
  },
  {
   "cell_type": "markdown",
   "id": "23db91bb",
   "metadata": {},
   "source": [
    "We see that in our sample, the average rate of purchase for visitors offered the standard promotion is <font color=green>3.78%</font>, compared to <font color=green>3.51%</font> for visitors exposed to the alternative promotion. \n",
    "\n",
    "The numbers are different and appear to be in favor of the standard promotion, but we need to make sure the difference is statistically significant, which we can validate or disprove with our A/B test.\n",
    "\n",
    "<u>**Brief Overview of Hypothesis Testing**</u>\n",
    "\n",
    "In statistical tests, we either reject or accept (fail to reject) the **null hypothesis**. In very simple terms, the null hypothesis suggests that there is no significant difference between two groups, and that any variance in the results are likely due to chance.\n",
    "\n",
    "We use a statistical measure called a **p-value** to guage whether or not any observed difference is really due to the treatment (or lack thereof) within each group. We typically interpret any p-value less than 0.05 as statistically significant, and the smaller the p-value, the stronger the evidence in support of the **alternative hypothesis**: that the treatment has a real effect on the outcome."
   ]
  },
  {
   "cell_type": "code",
   "execution_count": 16,
   "id": "4bd5644d-039b-4c3a-b04f-14a6b2671a55",
   "metadata": {},
   "outputs": [
    {
     "name": "stdout",
     "output_type": "stream",
     "text": [
      "Target variable is binary\n",
      "Running Chi-Square test (sample size is >= 1000)\n"
     ]
    },
    {
     "data": {
      "text/html": [
       "<div>\n",
       "<style scoped>\n",
       "    .dataframe tbody tr th:only-of-type {\n",
       "        vertical-align: middle;\n",
       "    }\n",
       "\n",
       "    .dataframe tbody tr th {\n",
       "        vertical-align: top;\n",
       "    }\n",
       "\n",
       "    .dataframe thead th {\n",
       "        text-align: right;\n",
       "    }\n",
       "</style>\n",
       "<table border=\"1\" class=\"dataframe\">\n",
       "  <thead>\n",
       "    <tr style=\"text-align: right;\">\n",
       "      <th></th>\n",
       "      <th>Test Type</th>\n",
       "      <th>Null Hypothesis</th>\n",
       "      <th>p-value</th>\n",
       "      <th>Comment</th>\n",
       "    </tr>\n",
       "  </thead>\n",
       "  <tbody>\n",
       "    <tr>\n",
       "      <th>0</th>\n",
       "      <td>Chi-Square Test</td>\n",
       "      <td>Reject</td>\n",
       "      <td>0.02273</td>\n",
       "      <td>Difference is statistically significant</td>\n",
       "    </tr>\n",
       "  </tbody>\n",
       "</table>\n",
       "</div>"
      ],
      "text/plain": [
       "         Test Type Null Hypothesis  p-value  \\\n",
       "0  Chi-Square Test          Reject  0.02273   \n",
       "\n",
       "                                   Comment  \n",
       "0  Difference is statistically significant  "
      ]
     },
     "execution_count": 16,
     "metadata": {},
     "output_type": "execute_result"
    }
   ],
   "source": [
    "# run A/B test on purchase rate\n",
    "ab_test(df, 'group', 'did_purchase')"
   ]
  },
  {
   "cell_type": "markdown",
   "id": "648b01b1",
   "metadata": {},
   "source": [
    "### <font color=purple>Business Question 1 Outcome</font>\n",
    "\n",
    "Our p-value of 0.02273 proves that there is a statistically significant difference between our two populations, which tells us that we can anticipate that continued use of the alternative promotion is likely to produce a **lower** rate of purchase. "
   ]
  },
  {
   "cell_type": "markdown",
   "id": "bbd9b5a9-29c5-419d-ad5f-f5f315d0df49",
   "metadata": {},
   "source": [
    "## <font color=green>Business Question 2: Among visitors who make a purchase, which group spends more?</font>\n",
    "\n",
    "As we did last time, we'll first check the average spend between each group. Note that we are only looking at visitors who did in fact make purchases within each group."
   ]
  },
  {
   "cell_type": "code",
   "execution_count": 17,
   "id": "d79dd8ad",
   "metadata": {},
   "outputs": [
    {
     "data": {
      "text/plain": [
       "group\n",
       "control      $88.52\n",
       "treatment    $83.39\n",
       "Name: outcome, dtype: object"
      ]
     },
     "metadata": {},
     "output_type": "display_data"
    }
   ],
   "source": [
    "display(df_sales.groupby('group')['outcome'].mean().apply(lambda x: f\"${x:,.2f}\"))"
   ]
  },
  {
   "cell_type": "markdown",
   "id": "c2186be3",
   "metadata": {},
   "source": [
    "Once again, we can see a difference with an average purchase amount of <font color=green>\\$88.52</font> in the standard promotion group, and <font color=green>\\$83.39</font> when the alternative promotion is offered.\n",
    "\n",
    "Let's run our A/B test to check for statistical significance."
   ]
  },
  {
   "cell_type": "code",
   "execution_count": 18,
   "id": "0e97ad27",
   "metadata": {},
   "outputs": [
    {
     "name": "stdout",
     "output_type": "stream",
     "text": [
      "Running Shapiro-Wilk normality test (sample size is < 5000)\n"
     ]
    },
    {
     "data": {
      "text/html": [
       "<div>\n",
       "<style scoped>\n",
       "    .dataframe tbody tr th:only-of-type {\n",
       "        vertical-align: middle;\n",
       "    }\n",
       "\n",
       "    .dataframe tbody tr th {\n",
       "        vertical-align: top;\n",
       "    }\n",
       "\n",
       "    .dataframe thead th {\n",
       "        text-align: right;\n",
       "    }\n",
       "</style>\n",
       "<table border=\"1\" class=\"dataframe\">\n",
       "  <thead>\n",
       "    <tr style=\"text-align: right;\">\n",
       "      <th></th>\n",
       "      <th>Test Type</th>\n",
       "      <th>Null Hypothesis</th>\n",
       "      <th>p-value</th>\n",
       "      <th>Comment</th>\n",
       "    </tr>\n",
       "  </thead>\n",
       "  <tbody>\n",
       "    <tr>\n",
       "      <th>0</th>\n",
       "      <td>Non-Parametric</td>\n",
       "      <td>Reject</td>\n",
       "      <td>0.00232</td>\n",
       "      <td>Difference is statistically significant</td>\n",
       "    </tr>\n",
       "  </tbody>\n",
       "</table>\n",
       "</div>"
      ],
      "text/plain": [
       "        Test Type Null Hypothesis  p-value  \\\n",
       "0  Non-Parametric          Reject  0.00232   \n",
       "\n",
       "                                   Comment  \n",
       "0  Difference is statistically significant  "
      ]
     },
     "execution_count": 18,
     "metadata": {},
     "output_type": "execute_result"
    }
   ],
   "source": [
    "# run A/B test on purchase amount\n",
    "ab_test(df_sales, 'group', 'outcome')"
   ]
  },
  {
   "cell_type": "markdown",
   "id": "2d2a1ac2",
   "metadata": {},
   "source": [
    "### <font color=purple>Business Question 2 Outcome</font>\n",
    "\n",
    "Here we have a very low p-value of 0.00232, which supports the idea that the alternative promotion is driving a **lower** overall customer spend. "
   ]
  },
  {
   "cell_type": "markdown",
   "id": "5121a739",
   "metadata": {},
   "source": [
    "# <font color=green>Conclusion</font>\n",
    "\n",
    "After analyzing and testing the campaign data, we have statistical evidence that the standard promotion performs better for both rate of purchase and purchase amount. Our retail company is likely well-advised to continue with the standard promotion they have historically offered to new visitors, or to run a new campaign with a different alternative promotion if they wish to drive even higher sales."
   ]
  }
 ],
 "metadata": {
  "kernelspec": {
   "display_name": "Python 3",
   "language": "python",
   "name": "python3"
  },
  "language_info": {
   "codemirror_mode": {
    "name": "ipython",
    "version": 3
   },
   "file_extension": ".py",
   "mimetype": "text/x-python",
   "name": "python",
   "nbconvert_exporter": "python",
   "pygments_lexer": "ipython3",
   "version": "3.9.7"
  }
 },
 "nbformat": 4,
 "nbformat_minor": 5
}
